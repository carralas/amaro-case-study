{
 "cells": [
  {
   "cell_type": "code",
   "execution_count": 2,
   "metadata": {},
   "outputs": [],
   "source": [
    "import pandas as pd\n",
    "import sqlite3"
   ]
  },
  {
   "cell_type": "code",
   "execution_count": 3,
   "metadata": {},
   "outputs": [],
   "source": [
    "def creator(path, table_name):\n",
    "    con = sqlite3.connect(path)\n",
    "    return pd.read_sql(f'select * from {table_name}', con).replace('', pd.NA)"
   ]
  },
  {
   "cell_type": "code",
   "execution_count": 4,
   "metadata": {},
   "outputs": [],
   "source": [
    "custmr = creator('amaro-data-analyst-case-2019Q1-files/Customers.db', 'customers')\n",
    "oitems = creator('amaro-data-analyst-case-2019Q1-files/OrderItems.db', 'orderitems')\n",
    "orders = creator('amaro-data-analyst-case-2019Q1-files/Orders.db', 'orders')\n",
    "prdcts = creator('amaro-data-analyst-case-2019Q1-files/Products.db', 'products')"
   ]
  },
  {
   "cell_type": "code",
   "execution_count": 5,
   "metadata": {},
   "outputs": [],
   "source": [
    "custmr.to_csv('Customers.csv')\n",
    "oitems.to_csv('OrderItems.csv')\n",
    "orders.to_csv('Orders.csv')\n",
    "prdcts.to_csv('Products.csv')"
   ]
  }
 ],
 "metadata": {
  "kernelspec": {
   "display_name": "Python 3",
   "language": "python",
   "name": "python3"
  },
  "language_info": {
   "codemirror_mode": {
    "name": "ipython",
    "version": 3
   },
   "file_extension": ".py",
   "mimetype": "text/x-python",
   "name": "python",
   "nbconvert_exporter": "python",
   "pygments_lexer": "ipython3",
   "version": "3.7.4"
  }
 },
 "nbformat": 4,
 "nbformat_minor": 2
}
